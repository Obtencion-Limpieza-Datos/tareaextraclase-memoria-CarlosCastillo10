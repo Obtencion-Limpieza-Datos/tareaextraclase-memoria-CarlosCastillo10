{
 "cells": [
  {
   "cell_type": "code",
   "execution_count": 10,
   "metadata": {},
   "outputs": [],
   "source": [
    "import pandas as pd"
   ]
  },
  {
   "cell_type": "code",
   "execution_count": 11,
   "metadata": {},
   "outputs": [
    {
     "name": "stderr",
     "output_type": "stream",
     "text": [
      "/home/carlos/Escritorio/2_Ciclo/Ob_Lim_Datos/Entornos-datos/env05/lib/python3.5/site-packages/IPython/core/interactiveshell.py:2714: DtypeWarning: Columns (3,5,12,13,14,16,17,27,29,31,32,36,37) have mixed types. Specify dtype option on import or set low_memory=False.\n",
      "  interactivity=interactivity, compiler=compiler, result=result)\n"
     ]
    }
   ],
   "source": [
    "df = pd.read_csv(\"../data/ENV_2017.csv\", encoding='latin-1')"
   ]
  },
  {
   "cell_type": "code",
   "execution_count": 12,
   "metadata": {
    "scrolled": true
   },
   "outputs": [
    {
     "name": "stdout",
     "output_type": "stream",
     "text": [
      "<class 'pandas.core.frame.DataFrame'>\n",
      "RangeIndex: 308252 entries, 0 to 308251\n",
      "Data columns (total 47 columns):\n",
      "prov_insc     308252 non-null object\n",
      "cant_insc     308252 non-null object\n",
      "parr_insc     308252 non-null object\n",
      "anio_insc     308252 non-null object\n",
      "mes_insc      308252 non-null object\n",
      "dia_insc      308252 non-null object\n",
      "fecha_insc    308252 non-null object\n",
      "sexo          308252 non-null object\n",
      "anio_nac      308252 non-null int64\n",
      "mes_nac       308252 non-null object\n",
      "dia_nac       308252 non-null int64\n",
      "fecha_nac     308252 non-null object\n",
      "talla         308252 non-null object\n",
      "peso          308252 non-null object\n",
      "sem_gest      308252 non-null object\n",
      "tipo_part     308252 non-null object\n",
      "apgar1        308252 non-null object\n",
      "apgar5        308252 non-null object\n",
      "p_emb         308252 non-null object\n",
      "lugar_ocur    308252 non-null object\n",
      "prov_nac      308252 non-null object\n",
      "cant_nac      308252 non-null object\n",
      "parr_nac      308252 non-null object\n",
      "area_nac      308252 non-null object\n",
      "asis_por      308252 non-null object\n",
      "nac_mad       308252 non-null object\n",
      "cod_pais      308252 non-null object\n",
      "anio_mad      308252 non-null object\n",
      "mes_mad       308252 non-null object\n",
      "dia_mad       308252 non-null object\n",
      "fecha_mad     308252 non-null object\n",
      "edad_mad      308252 non-null object\n",
      "con_pren      308252 non-null object\n",
      "num_emb       308252 non-null int64\n",
      "num_par       308252 non-null int64\n",
      "hij_viv       308252 non-null int64\n",
      "hij_vivm      308252 non-null object\n",
      "hij_nacm      308252 non-null object\n",
      "etnia         308252 non-null object\n",
      "est_civil     308252 non-null object\n",
      "niv_inst      308252 non-null object\n",
      "sabe_leer     308252 non-null object\n",
      "prov_res      308252 non-null object\n",
      "cant_res      308252 non-null object\n",
      "parr_res      308252 non-null object\n",
      "area_res      308252 non-null object\n",
      "residente     308252 non-null object\n",
      "dtypes: int64(5), object(42)\n",
      "memory usage: 762.1 MB\n"
     ]
    }
   ],
   "source": [
    "df.info(memory_usage='deep')"
   ]
  },
  {
   "cell_type": "code",
   "execution_count": 21,
   "metadata": {},
   "outputs": [
    {
     "name": "stderr",
     "output_type": "stream",
     "text": [
      "/home/carlos/Escritorio/2_Ciclo/Ob_Lim_Datos/Entornos-datos/env05/lib/python3.5/site-packages/ipykernel_launcher.py:4: FutureWarning: '.reindex_axis' is deprecated and will be removed in a future version. Use '.reindex' instead.\n",
      "  after removing the cwd from sys.path.\n"
     ]
    }
   ],
   "source": [
    "df_nuevo = pd.concat([\n",
    "        df.select_dtypes([], ['object']),\n",
    "        df.select_dtypes(['object']).apply(pd.Series.astype, dtype='category')\n",
    "        ], axis=1).reindex_axis(df.columns, axis=1)"
   ]
  },
  {
   "cell_type": "code",
   "execution_count": 22,
   "metadata": {},
   "outputs": [],
   "source": [
    "df_nuevo['fecha_nac'] = pd.to_datetime(df_nuevo['fecha_nac'])"
   ]
  },
  {
   "cell_type": "code",
   "execution_count": 23,
   "metadata": {},
   "outputs": [
    {
     "name": "stdout",
     "output_type": "stream",
     "text": [
      "<class 'pandas.core.frame.DataFrame'>\n",
      "RangeIndex: 308252 entries, 0 to 308251\n",
      "Data columns (total 47 columns):\n",
      "prov_insc     308252 non-null category\n",
      "cant_insc     308252 non-null category\n",
      "parr_insc     308252 non-null category\n",
      "anio_insc     308252 non-null category\n",
      "mes_insc      308252 non-null category\n",
      "dia_insc      308252 non-null category\n",
      "fecha_insc    308252 non-null category\n",
      "sexo          308252 non-null category\n",
      "anio_nac      308252 non-null int64\n",
      "mes_nac       308252 non-null category\n",
      "dia_nac       308252 non-null int64\n",
      "fecha_nac     308252 non-null datetime64[ns]\n",
      "talla         308252 non-null category\n",
      "peso          308252 non-null category\n",
      "sem_gest      308252 non-null category\n",
      "tipo_part     308252 non-null category\n",
      "apgar1        308252 non-null category\n",
      "apgar5        308252 non-null category\n",
      "p_emb         308252 non-null category\n",
      "lugar_ocur    308252 non-null category\n",
      "prov_nac      308252 non-null category\n",
      "cant_nac      308252 non-null category\n",
      "parr_nac      308252 non-null category\n",
      "area_nac      308252 non-null category\n",
      "asis_por      308252 non-null category\n",
      "nac_mad       308252 non-null category\n",
      "cod_pais      308252 non-null category\n",
      "anio_mad      308252 non-null category\n",
      "mes_mad       308252 non-null category\n",
      "dia_mad       308252 non-null category\n",
      "fecha_mad     308252 non-null category\n",
      "edad_mad      308252 non-null category\n",
      "con_pren      308252 non-null category\n",
      "num_emb       308252 non-null int64\n",
      "num_par       308252 non-null int64\n",
      "hij_viv       308252 non-null int64\n",
      "hij_vivm      308252 non-null category\n",
      "hij_nacm      308252 non-null category\n",
      "etnia         308252 non-null category\n",
      "est_civil     308252 non-null category\n",
      "niv_inst      308252 non-null category\n",
      "sabe_leer     308252 non-null category\n",
      "prov_res      308252 non-null category\n",
      "cant_res      308252 non-null category\n",
      "parr_res      308252 non-null category\n",
      "area_res      308252 non-null category\n",
      "residente     308252 non-null category\n",
      "dtypes: category(41), datetime64[ns](1), int64(5)\n",
      "memory usage: 30.7 MB\n"
     ]
    }
   ],
   "source": [
    "df_nuevo.info(memory_usage='deep')"
   ]
  },
  {
   "cell_type": "markdown",
   "metadata": {},
   "source": [
    "OPCION2"
   ]
  },
  {
   "cell_type": "code",
   "execution_count": 24,
   "metadata": {},
   "outputs": [],
   "source": [
    "for l in df_nuevo.keys():\n",
    "    df_nuevo[l] = df_nuevo[l].astype('category')"
   ]
  },
  {
   "cell_type": "code",
   "execution_count": 25,
   "metadata": {},
   "outputs": [
    {
     "name": "stdout",
     "output_type": "stream",
     "text": [
      "<class 'pandas.core.frame.DataFrame'>\n",
      "RangeIndex: 308252 entries, 0 to 308251\n",
      "Data columns (total 47 columns):\n",
      "prov_insc     308252 non-null category\n",
      "cant_insc     308252 non-null category\n",
      "parr_insc     308252 non-null category\n",
      "anio_insc     308252 non-null category\n",
      "mes_insc      308252 non-null category\n",
      "dia_insc      308252 non-null category\n",
      "fecha_insc    308252 non-null category\n",
      "sexo          308252 non-null category\n",
      "anio_nac      308252 non-null category\n",
      "mes_nac       308252 non-null category\n",
      "dia_nac       308252 non-null category\n",
      "fecha_nac     308252 non-null category\n",
      "talla         308252 non-null category\n",
      "peso          308252 non-null category\n",
      "sem_gest      308252 non-null category\n",
      "tipo_part     308252 non-null category\n",
      "apgar1        308252 non-null category\n",
      "apgar5        308252 non-null category\n",
      "p_emb         308252 non-null category\n",
      "lugar_ocur    308252 non-null category\n",
      "prov_nac      308252 non-null category\n",
      "cant_nac      308252 non-null category\n",
      "parr_nac      308252 non-null category\n",
      "area_nac      308252 non-null category\n",
      "asis_por      308252 non-null category\n",
      "nac_mad       308252 non-null category\n",
      "cod_pais      308252 non-null category\n",
      "anio_mad      308252 non-null category\n",
      "mes_mad       308252 non-null category\n",
      "dia_mad       308252 non-null category\n",
      "fecha_mad     308252 non-null category\n",
      "edad_mad      308252 non-null category\n",
      "con_pren      308252 non-null category\n",
      "num_emb       308252 non-null category\n",
      "num_par       308252 non-null category\n",
      "hij_viv       308252 non-null category\n",
      "hij_vivm      308252 non-null category\n",
      "hij_nacm      308252 non-null category\n",
      "etnia         308252 non-null category\n",
      "est_civil     308252 non-null category\n",
      "niv_inst      308252 non-null category\n",
      "sabe_leer     308252 non-null category\n",
      "prov_res      308252 non-null category\n",
      "cant_res      308252 non-null category\n",
      "parr_res      308252 non-null category\n",
      "area_res      308252 non-null category\n",
      "residente     308252 non-null category\n",
      "dtypes: category(47)\n",
      "memory usage: 18.9 MB\n"
     ]
    }
   ],
   "source": [
    "df_nuevo.info(memory_usage='deep')"
   ]
  },
  {
   "cell_type": "code",
   "execution_count": null,
   "metadata": {},
   "outputs": [],
   "source": []
  }
 ],
 "metadata": {
  "kernelspec": {
   "display_name": "Python 3",
   "language": "python",
   "name": "python3"
  },
  "language_info": {
   "codemirror_mode": {
    "name": "ipython",
    "version": 3
   },
   "file_extension": ".py",
   "mimetype": "text/x-python",
   "name": "python",
   "nbconvert_exporter": "python",
   "pygments_lexer": "ipython3",
   "version": "3.5.2"
  }
 },
 "nbformat": 4,
 "nbformat_minor": 2
}
